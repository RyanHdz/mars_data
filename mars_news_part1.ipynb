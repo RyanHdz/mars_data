{
 "cells": [
  {
   "cell_type": "code",
   "execution_count": 15,
   "id": "941fa458",
   "metadata": {},
   "outputs": [],
   "source": [
    "# Import Splinter and BeautifulSoup\n",
    "from splinter import Browser\n",
    "from bs4 import BeautifulSoup as bs\n",
    "import chromedriver_binary"
   ]
  },
  {
   "cell_type": "code",
   "execution_count": 16,
   "id": "c618b7d2",
   "metadata": {
    "scrolled": true
   },
   "outputs": [],
   "source": [
    "browser = Browser('chrome')\n"
   ]
  },
  {
   "cell_type": "code",
   "execution_count": 17,
   "id": "23f2b3fd",
   "metadata": {},
   "outputs": [],
   "source": [
    "# Visit the Mars news site\n",
    "url = 'https://static.bc-edx.com/data/web/mars_news/index.html'\n",
    "browser.visit(url)\n"
   ]
  },
  {
   "cell_type": "code",
   "execution_count": 18,
   "id": "6444e388",
   "metadata": {},
   "outputs": [],
   "source": [
    "# Create a Beautiful Soup object\n",
    "html = browser.html\n",
    "soup = bs(html, 'html.parser')"
   ]
  },
  {
   "cell_type": "code",
   "execution_count": 19,
   "id": "6d015a0a",
   "metadata": {},
   "outputs": [],
   "source": [
    "# Extract all the text elements\n",
    "text_elements = soup.get_text()"
   ]
  },
  {
   "cell_type": "code",
   "execution_count": 29,
   "id": "66697038",
   "metadata": {},
   "outputs": [],
   "source": [
    "# Create an empty list to store the dictionaries\n",
    "news_list = []"
   ]
  },
  {
   "cell_type": "raw",
   "id": "9b9ae0c4",
   "metadata": {},
   "source": []
  },
  {
   "cell_type": "code",
   "execution_count": 48,
   "id": "b07f6264",
   "metadata": {},
   "outputs": [
    {
     "name": "stdout",
     "output_type": "stream",
     "text": [
      "{'title': \"NASA's MAVEN Observes Martian Light Show Caused by Major Solar Storm\", 'preview': \"For the first time in its eight years orbiting Mars, NASA’s MAVEN mission witnessed two different types of ultraviolet aurorae simultaneously, the result of solar storms that began on Aug. 27.\"},\n",
      "{'title': \"NASA Prepares to Say 'Farewell' to InSight Spacecraft\", 'preview': \"A closer look at what goes into wrapping up the mission as the spacecraft’s power supply continues to dwindle.\"},\n",
      "{'title': \"NASA and ESA Agree on Next Steps to Return Mars Samples to Earth\", 'preview': \"The agency’s Perseverance rover will establish the first sample depot on Mars.\"},\n",
      "{'title': \"NASA's InSight Lander Detects Stunning Meteoroid Impact on Mars\", 'preview': \"The agency’s lander felt the ground shake during the impact while cameras aboard the Mars Reconnaissance Orbiter spotted the yawning new crater from space.\"},\n",
      "{'title': \"NASA To Host Briefing on InSight, Mars Reconnaissance Orbiter Findings\", 'preview': \"Scientists from two Mars missions will discuss how they combined images and data for a major finding on the Red Planet.\"},\n",
      "{'title': \"Why NASA Is Trying To Crash Land on Mars\", 'preview': \"Like a car’s crumple zone, the experimental SHIELD lander is designed to absorb a hard impact.\"},\n",
      "{'title': \"Curiosity Mars Rover Reaches Long-Awaited Salty Region\", 'preview': \"After years of climbing, the Mars rover has arrived at a special region believed to have formed as Mars’ climate was drying.\"},\n",
      "{'title': \"Mars Mission Shields Up for Tests\", 'preview': \"Protecting Mars Sample Return spacecraft from micrometeorites requires high-caliber work.\"},\n",
      "{'title': \"NASA's InSight Waits Out Dust Storm\", 'preview': \"InSight’s team is taking steps to help the solar-powered lander continue operating for as long as possible.\"},\n",
      "{'title': \"NASA's InSight 'Hears' Its First Meteoroid Impacts on Mars\", 'preview': \"The Mars lander’s seismometer has picked up vibrations from four separate impacts in the past two years.\"},\n",
      "{'title': \"NASA's Perseverance Rover Investigates Geologically Rich Mars Terrain\", 'preview': \"The latest findings provide greater detail on a region of the Red Planet that has a watery past and is yielding promising samples for the NASA-ESA Mars Sample Return campaign.\"},\n",
      "{'title': \"NASA to Host Briefing on Perseverance Mars Rover Mission Operations\", 'preview': \"Members of the mission will discuss the rover’s activities as it gathers samples in an ancient river delta.\"},\n",
      "{'title': \"NASA's Perseverance Makes New Discoveries in Mars' Jezero Crater\", 'preview': \"The rover found that Jezero Crater’s floor is made up of volcanic rocks that have interacted with water.\"},\n",
      "{'title': \"10 Years Since Landing, NASA's Curiosity Mars Rover Still Has Drive\", 'preview': \"Despite signs of wear, the intrepid spacecraft is about to start an exciting new chapter of its mission as it climbs a Martian mountain.\"},\n",
      "{'title': \"SAM's Top 5 Discoveries Aboard NASA's Curiosity Rover at Mars\", 'preview': \"“Selfie” of the Curiosity rover with inset showing the SAM instrument prior to installation on the rover.\"},\n"
     ]
    }
   ],
   "source": [
    "# Find all the news articles with class 'list_text'\n",
    "articles = soup.find_all('div', class_='list_text')\n",
    "\n",
    "# Loop through the articles and print the title and preview text\n",
    "for article in articles:\n",
    "    # Extract the title and preview text from the article\n",
    "    title = article.find('div', class_='content_title').text.strip()\n",
    "    preview = article.find('div', class_='article_teaser_body').text.strip()\n",
    "\n",
    "    # Store each title and preview pair in a dictionary\n",
    "    news_dict = {'title': title, 'preview': preview}\n",
    "\n",
    "    # Add the dictionary to the list\n",
    "    news_list.append(news_dict)\n",
    "    # Print the title and preview text\n",
    "    print(f\"{{'title': \\\"{title}\\\", 'preview': \\\"{preview}\\\"}},\")"
   ]
  },
  {
   "cell_type": "code",
   "execution_count": null,
   "id": "4ddb8412",
   "metadata": {},
   "outputs": [],
   "source": [
    "browser.quit()"
   ]
  },
  {
   "cell_type": "code",
   "execution_count": null,
   "id": "f4ece66e",
   "metadata": {},
   "outputs": [],
   "source": []
  }
 ],
 "metadata": {
  "kernelspec": {
   "display_name": "Python 3 (ipykernel)",
   "language": "python",
   "name": "python3"
  },
  "language_info": {
   "codemirror_mode": {
    "name": "ipython",
    "version": 3
   },
   "file_extension": ".py",
   "mimetype": "text/x-python",
   "name": "python",
   "nbconvert_exporter": "python",
   "pygments_lexer": "ipython3",
   "version": "3.11.4"
  }
 },
 "nbformat": 4,
 "nbformat_minor": 5
}
